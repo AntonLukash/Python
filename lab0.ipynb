{
 "cells": [
  {
   "cell_type": "code",
   "execution_count": 7,
   "id": "a665b867-cd2f-41ed-a236-7a550767abb9",
   "metadata": {},
   "outputs": [
    {
     "name": "stdout",
     "output_type": "stream",
     "text": [
      "6\n"
     ]
    }
   ],
   "source": [
    "N = ord(\"A\") % 10 + 1\n",
    "print(N)\n"
   ]
  },
  {
   "cell_type": "markdown",
   "id": "d497201f-cda8-4299-85c7-2dadf33d80aa",
   "metadata": {},
   "source": [
    "# Інформація про Йорданію\n",
    "\n",
    "## Загальні відомості\n",
    "\n",
    "**Площа:** 89,342 км²  \n",
    "**Населення:** ~11 мільйонів осіб (2023 рік)  \n",
    "\n",
    "## Державний устрій\n",
    "\n",
    "Йорданія є конституційною монархією з парламентарною системою. Головою держави є король, а уряд очолює прем'єр-міністр.\n"
   ]
  },
  {
   "cell_type": "code",
   "execution_count": 1,
   "id": "96bba91c-540f-42b8-aabe-4787430286c3",
   "metadata": {},
   "outputs": [
    {
     "data": {
      "text/html": [
       "<style>\n",
       ".style1 {\n",
       "    border: 5px solid black;\n",
       "    border-radius: 5px;\n",
       "    padding: 10px;\n",
       "    color: blue;\n",
       "}\n",
       "</style>\n",
       "\n",
       "<div class=\"style1\">Король Абдалла II – сучасний монарх Йорданії.</div>\n",
       "\n",
       "<font color=\"green\">Хусейн бен Талал – колишній король,</font> <font color=\"red\"> що правив з 1952 по 1999 рік.</font>.\n"
      ],
      "text/plain": [
       "<IPython.core.display.HTML object>"
      ]
     },
     "metadata": {},
     "output_type": "display_data"
    }
   ],
   "source": [
    "%%HTML\n",
    "<style>\n",
    ".style1 {\n",
    "    border: 5px solid black;\n",
    "    border-radius: 5px;\n",
    "    padding: 10px;\n",
    "    color: blue;\n",
    "}\n",
    "</style>\n",
    "\n",
    "<div class=\"style1\">Король Абдалла II – сучасний монарх Йорданії.</div>\n",
    "\n",
    "<font color=\"green\">Хусейн бен Талал – колишній король,</font> <font color=\"red\"> що правив з 1952 по 1999 рік.</font>."
   ]
  },
  {
   "cell_type": "code",
   "execution_count": 4,
   "id": "ecd5c8f4-b65e-484f-99f2-85afe0db2dfd",
   "metadata": {},
   "outputs": [
    {
     "data": {
      "text/html": [
       "<table border=\"1\" style=\"width:100%; border-collapse: collapse;\">\n",
       "    <thead>\n",
       "        <tr>\n",
       "            <th>Показник</th>\n",
       "            <th>Значення</th>\n",
       "        </tr>\n",
       "    </thead>\n",
       "    <tbody>\n",
       "        <tr>\n",
       "            <td>Площа</td>\n",
       "            <td>89,342 км²</td>\n",
       "        </tr>\n",
       "        <tr>\n",
       "            <td>Населення</td>\n",
       "            <td>~11 мільйонів осіб (2023 рік)</td>\n",
       "        </tr>\n",
       "        <tr>\n",
       "            <td>Офіційна мова</td>\n",
       "            <td>Арабська</td>\n",
       "        </tr>\n",
       "        <tr>\n",
       "            <td>Столиця</td>\n",
       "            <td>Амман</td>\n",
       "        </tr>\n",
       "    </tbody>\n",
       "</table>\n"
      ],
      "text/plain": [
       "<IPython.core.display.HTML object>"
      ]
     },
     "metadata": {},
     "output_type": "display_data"
    }
   ],
   "source": [
    "%%HTML\n",
    "<table border=\"1\" style=\"width:100%; border-collapse: collapse;\">\n",
    "    <thead>\n",
    "        <tr>\n",
    "            <th>Показник</th>\n",
    "            <th>Значення</th>\n",
    "        </tr>\n",
    "    </thead>\n",
    "    <tbody>\n",
    "        <tr>\n",
    "            <td>Площа</td>\n",
    "            <td>89,342 км²</td>\n",
    "        </tr>\n",
    "        <tr>\n",
    "            <td>Населення</td>\n",
    "            <td>~11 мільйонів осіб (2023 рік)</td>\n",
    "        </tr>\n",
    "        <tr>\n",
    "            <td>Офіційна мова</td>\n",
    "            <td>Арабська</td>\n",
    "        </tr>\n",
    "        <tr>\n",
    "            <td>Столиця</td>\n",
    "            <td>Амман</td>\n",
    "        </tr>\n",
    "    </tbody>\n",
    "</table>\n"
   ]
  },
  {
   "cell_type": "code",
   "execution_count": 5,
   "id": "4591fd58-d7d5-4d7e-8822-de0c6ad480ea",
   "metadata": {},
   "outputs": [
    {
     "data": {
      "text/html": [
       "<ul>\n",
       "    <li>Йорданія поділяється на кілька адміністративних одиниць:\n",
       "        <ul>\n",
       "            <li>Амман</li>\n",
       "            <li>Аджлун</li>\n",
       "            <li>Аль-Балка</li>\n",
       "            <li>Аль-Хісн</li>\n",
       "            <li>Аль-Карак</li>\n",
       "            <li>Мафрак</li>\n",
       "            <li>Зарка</li>\n",
       "            <li>Маан</li>\n",
       "            <li>Ірбід</li>\n",
       "            <li>Мадан</li>\n",
       "            <li>Маабда</li>\n",
       "            <li>Аль-Сальт</li>\n",
       "        </ul>\n",
       "    </li>\n",
       "</ul>\n"
      ],
      "text/plain": [
       "<IPython.core.display.HTML object>"
      ]
     },
     "metadata": {},
     "output_type": "display_data"
    }
   ],
   "source": [
    "%%HTML\n",
    "<ul>\n",
    "    <li>Йорданія поділяється на кілька адміністративних одиниць:\n",
    "        <ul>\n",
    "            <li>Амман</li>\n",
    "            <li>Аджлун</li>\n",
    "            <li>Аль-Балка</li>\n",
    "            <li>Аль-Хісн</li>\n",
    "            <li>Аль-Карак</li>\n",
    "            <li>Мафрак</li>\n",
    "            <li>Зарка</li>\n",
    "            <li>Маан</li>\n",
    "            <li>Ірбід</li>\n",
    "            <li>Мадан</li>\n",
    "            <li>Маабда</li>\n",
    "            <li>Аль-Сальт</li>\n",
    "        </ul>\n",
    "    </li>\n",
    "</ul>\n"
   ]
  },
  {
   "cell_type": "code",
   "execution_count": 6,
   "id": "7b46cb87-5209-4e02-91c5-d31465d8682a",
   "metadata": {},
   "outputs": [
    {
     "data": {
      "text/html": [
       "<h3>Відомі пам’ятки Йорданії</h3>\n",
       "\n",
       "<h4>1. Петра</h4>\n",
       "<p>Петра – древнє місто, яке визнано однією з нових семи чудес світу.</p>\n",
       "<img src=\"https://upload.wikimedia.org/wikipedia/commons/c/c8/Gravkammare_2.jpg\" alt=\"Петра\" style=\"width:50%;\">\n",
       "\n",
       "<h4>2. Римський театр в Аммані</h4>\n",
       "<p>Історичний театр, що датується II століттям нашої ери.</p>\n",
       "<img src=\"data:image/jpeg;base64,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\" alt=\"Римський театр\" style=\"width:50%;\">\n",
       "\n"
      ],
      "text/plain": [
       "<IPython.core.display.HTML object>"
      ]
     },
     "metadata": {},
     "output_type": "display_data"
    }
   ],
   "source": [
    "%%HTML\n",
    "<h3>Відомі пам’ятки Йорданії</h3>\n",
    "\n",
    "<h4>1. Петра</h4>\n",
    "<p>Петра – древнє місто, яке визнано однією з нових семи чудес світу.</p>\n",
    "<img src=\"https://upload.wikimedia.org/wikipedia/commons/c/c8/Gravkammare_2.jpg\" alt=\"Петра\" style=\"width:50%;\">\n",
    "\n",
    "<h4>2. Римський театр в Аммані</h4>\n",
    "<p>Історичний театр, що датується II століттям нашої ери.</p>\n",
    "<img src=\"data:image/jpeg;base64,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\" alt=\"Римський театр\" style=\"width:50%;\">\n",
    "\n"
   ]
  },
  {
   "cell_type": "markdown",
   "id": "ae35821d-161a-4693-8703-27358d7a9df3",
   "metadata": {},
   "source": [
    "## Гіперпосилання\n",
    "\n",
    "- [Офіційний сайт Йорданії](http://www.jordan.gov.jo)\n",
    "- [Вікіпедія про Йорданію](https://uk.wikipedia.org/wiki/Йорданія)\n"
   ]
  },
  {
   "cell_type": "code",
   "execution_count": 73,
   "id": "05e7a3d8-ef27-40df-bdd6-5d7e1ea19527",
   "metadata": {},
   "outputs": [
    {
     "data": {
      "text/html": [
       "<svg xmlns=\"http://www.w3.org/2000/svg\" viewBox=\"0 0 10080 5040\" width=\"1200\" height=\"600\">\n",
       "  <!-- Чорна смуга -->\n",
       "  <rect x=\"0\" y=\"0\" width=\"10080\" height=\"1680\" fill=\"#000\"/>\n",
       "  \n",
       "  <!-- Біла смуга -->\n",
       "  <rect x=\"0\" y=\"1680\" width=\"10080\" height=\"1680\" fill=\"#fff\"/>\n",
       "  \n",
       "  <!-- Зелена смуга -->\n",
       "  <rect x=\"0\" y=\"3360\" width=\"10080\" height=\"1680\" fill=\"#008d00\"/>\n",
       "  \n",
       "<path fill=\"#ce1126\" d=\"m5040 2520L0 5040V0m1557 2160-78 198-203-62 106 184-176 120 211 32-16 212 156-144 157 144-16-212 210-32-175-120 106-184-203 62z\"/>\n",
       "\n",
       "\n",
       "</svg>\n",
       "\n",
       "\n"
      ],
      "text/plain": [
       "<IPython.core.display.HTML object>"
      ]
     },
     "metadata": {},
     "output_type": "display_data"
    }
   ],
   "source": [
    "%%HTML\n",
    "<svg xmlns=\"http://www.w3.org/2000/svg\" viewBox=\"0 0 10080 5040\" width=\"1200\" height=\"600\">\n",
    "  <!-- Чорна смуга -->\n",
    "  <rect x=\"0\" y=\"0\" width=\"10080\" height=\"1680\" fill=\"#000\"/>\n",
    "  \n",
    "  <!-- Біла смуга -->\n",
    "  <rect x=\"0\" y=\"1680\" width=\"10080\" height=\"1680\" fill=\"#fff\"/>\n",
    "  \n",
    "  <!-- Зелена смуга -->\n",
    "  <rect x=\"0\" y=\"3360\" width=\"10080\" height=\"1680\" fill=\"#008d00\"/>\n",
    "  \n",
    "  <!-- Червоний трикутник та біла 7-кутова зірка -->\n",
    "  <path fill=\"#ce1126\" d=\"m5040 2520L0 5040V0m1557 2160-78 198-203-62 106 184-176 120 211 32-16 212 156-144 157 144-16-212 210-32-175-120 106-184-203 62z\"/>\n",
    "</svg>\n",
    "\n",
    "\n"
   ]
  },
  {
   "cell_type": "code",
   "execution_count": 3,
   "id": "5f2a7e67-1369-4789-914e-5118dcba8d08",
   "metadata": {},
   "outputs": [
    {
     "name": "stdin",
     "output_type": "stream",
     "text": [
      "Введіть два числа (a та b), розділені пробілом:  3 15\n"
     ]
    },
    {
     "name": "stdout",
     "output_type": "stream",
     "text": [
      "Прості числа в межах [3, 15]: [3, 5, 7, 11, 13]\n"
     ]
    }
   ],
   "source": [
    "def is_prime(n):\n",
    "    \"\"\"Перевірка, чи є число n простим\"\"\"\n",
    "    if n <= 1:\n",
    "        return False\n",
    "    if n <= 3:\n",
    "        return True\n",
    "    if n % 2 == 0 or n % 3 == 0:\n",
    "        return False\n",
    "    i = 5\n",
    "    while i * i <= n:\n",
    "        if n % i == 0 or n % (i + 2) == 0:\n",
    "            return False\n",
    "        i += 6\n",
    "    return True\n",
    "\n",
    "def find_primes_in_range(a, b):\n",
    "    \"\"\"Знаходження всіх простих чисел в межах [a, b]\"\"\"\n",
    "    primes = [num for num in range(a, b + 1) if is_prime(num)]\n",
    "    return primes\n",
    "\n",
    "def task_6():\n",
    "    \"\"\"Функція для отримання простих чисел на відрізку [a, b]\"\"\"\n",
    "    input_data = input(\"Введіть два числа (a та b), розділені пробілом: \")\n",
    "    parts = input_data.split()\n",
    "    \n",
    "    if len(parts) != 2:\n",
    "        print(\"Помилка: Будь ласка, введіть рівно два числа\")\n",
    "        return\n",
    "    \n",
    "    if not all(part.isdigit() for part in parts):\n",
    "        print(\"Помилка: Введені дані повинні бути цілими числами\")\n",
    "        return\n",
    "    \n",
    "    a, b = map(int, parts)\n",
    "    \n",
    "    if a >= b:\n",
    "        print(\"Помилка: Перше число має бути меншим за друге\")\n",
    "        return\n",
    "    \n",
    "    primes = find_primes_in_range(a, b)\n",
    "    print(f\"Прості числа в межах [{a}, {b}]: {primes}\")\n",
    "\n",
    "\n",
    "task_6()\n"
   ]
  },
  {
   "cell_type": "code",
   "execution_count": null,
   "id": "df775772-51b1-4e46-96ad-2a97bfc03452",
   "metadata": {},
   "outputs": [],
   "source": [
    "\n",
    "\n"
   ]
  }
 ],
 "metadata": {
  "kernelspec": {
   "display_name": "Python 3 (ipykernel)",
   "language": "python",
   "name": "python3"
  },
  "language_info": {
   "codemirror_mode": {
    "name": "ipython",
    "version": 3
   },
   "file_extension": ".py",
   "mimetype": "text/x-python",
   "name": "python",
   "nbconvert_exporter": "python",
   "pygments_lexer": "ipython3",
   "version": "3.12.6"
  }
 },
 "nbformat": 4,
 "nbformat_minor": 5
}
